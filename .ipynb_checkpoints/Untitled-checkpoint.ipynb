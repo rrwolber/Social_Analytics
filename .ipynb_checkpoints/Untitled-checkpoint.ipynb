{
 "cells": [
  {
   "cell_type": "code",
   "execution_count": 3,
   "metadata": {
    "collapsed": true
   },
   "outputs": [],
   "source": [
    "import json\n",
    "import tweepy\n",
    "import pandas as pd \n",
    "import matplotlib.pyplot as plt \n",
    "import requests as req\n",
    "import time\n",
    "import numpy\n",
    "import seaborn as sns\n",
    "import numpy as np\n",
    "import datetime\n",
    "from vaderSentiment.vaderSentiment import SentimentIntensityAnalyzer\n",
    "import random\n",
    "\n",
    "now = datetime.datetime.now()"
   ]
  },
  {
   "cell_type": "code",
   "execution_count": null,
   "metadata": {},
   "outputs": [],
   "source": [
    "analyzer = SentimentIntensityAnalyzer()\n",
    "\n",
    "\n",
    "# Twitter API Keys\n",
    "consumer_key = \t'fDCqtO3uUj0q12AYbatnmZ0us'\n",
    "consumer_secret = 'i0880dyW9X2wu61Td0odDVcbyBka4J78vWGh60bZ7iM5dzCFnF'\n",
    "access_token = '939996960525754368-c0J2KNIYyoSfUFly3vJ3Xakp2EWMiuN'\n",
    "access_token_secret = \t'tnMlUtY2IVJgAbsDzSvVVMA58RDiYv2V7CzFpJ1P9EZq6'\n",
    "\n",
    "# Twitter credentials\n",
    "auth = tweepy.OAuthHandler(consumer_key, consumer_secret)\n",
    "auth.set_access_token(access_token, access_token_secret)\n",
    "api = tweepy.API(auth, parser=tweepy.parsers.JSONParser(),wait_on_rate_limit=True)\n",
    "\n",
    "me = '@RWplotbot'\n",
    "past_analyses = []  #formatted assuming bot were running forever\n",
    "past_mentions = []\n",
    "caller = \"\"\n",
    "\n",
    "def MentionSentiment(user):\n",
    "    #compile sentiment list of last 500 tweets and return analysis with media\n",
    "\n",
    "    oldest_tweet=''\n",
    "    sentiments = []\n",
    "    tweetcount = 0\n",
    "    print(user)\n",
    "    while tweetcount < 500:\n",
    "        target_tweets = api.search(user, count=50,\n",
    "                                    result_type='recent',\n",
    "                                    max_id=oldest_tweet)\n",
    "\n",
    "        # Loop through all tweets\n",
    "        for tweet in target_tweets['statuses']:\n",
    "            oldest_tweet = tweet['id_str']\n",
    "            text = tweet[\"text\"]\n",
    "            tweetcount =tweetcount + 1\n",
    "            print(tweetcount)\n",
    "\n",
    "\n",
    "            # Run Vader Analysis on each tweet\n",
    "\n",
    "            scores = analyzer.polarity_scores(text)\n",
    "\n",
    "            sentiments.append(scores)\n",
    "\n",
    "    sentiments_df = pd.DataFrame(sentiments)\n",
    "\n",
    "\n",
    "    x_values = -1*(np.arange(len(sentiments_df)))\n",
    "    y_values = sentiments_df[\"compound\"]\n",
    "    sns.set()\n",
    "    at, = plt.plot(x_values,y_values,linestyle=\"-\",linewidth=0.5, marker=\"o\",label=f'@{user}')\n",
    "    plt.ylabel(\"Composite Sentiment Analysis (Vader)\")\n",
    "    plt.xlabel(\"Tweets Ago\")\n",
    "    plt.legend(handles=[at],title=\"Tweets\",loc='upper left', bbox_to_anchor=(1, 1))\n",
    "    plt.xlim(-505,5)\n",
    "    plt.ylim(-0.01,1.01)\n",
    "    plt.title(f'Sentiment Analysis of Tweets ({now.month}/{now.day}/{now.year})')\n",
    "    \n",
    "    plt.savefig(f'Sentiment{user}.png',bbox_extra_artists=(lgd,), bbox_inches='tight')\n",
    "\n",
    "    api.update_with_media(f'Sentiment{user}.png', status=f'New Tweet Analysis: @{user} (Thanks @{caller}!)')\n",
    "\n",
    "\n",
    "\n",
    "\n",
    "def Requested():\n",
    "\n",
    "    req = \"\"\n",
    "    callerList = []\n",
    "    reqList = []\n",
    "\n",
    "    mentions = api.mentions_timeline()\n",
    "\n",
    "    for mention in mentions:\n",
    "        if mention[\"id\"] not in past_mentions:\n",
    "            caller = mention[\"user\"][\"screen_name\"]\n",
    "            past_mentions.append(mention[\"id\"])\n",
    "            if len(mention[\"entities\"][\"user_mentions\"]) > 1:\n",
    "                req = f'@{mention[\"entities\"][\"user_mentions\"][1][\"screen_name\"]}'\n",
    "                if req not in past_analyses:\n",
    "                    past_analyses.append(req)\n",
    "                    return(req)\n",
    "\n",
    "\n",
    "\n",
    "MentionSentiment(\"@iamjohnoliver\")\n",
    "\n"
   ]
  },
  {
   "cell_type": "code",
   "execution_count": null,
   "metadata": {
    "collapsed": true
   },
   "outputs": [],
   "source": [
    "len(x_values)"
   ]
  },
  {
   "cell_type": "code",
   "execution_count": null,
   "metadata": {
    "collapsed": true
   },
   "outputs": [],
   "source": [
    "len(y_values)"
   ]
  },
  {
   "cell_type": "code",
   "execution_count": null,
   "metadata": {
    "collapsed": true
   },
   "outputs": [],
   "source": []
  },
  {
   "cell_type": "code",
   "execution_count": null,
   "metadata": {
    "collapsed": true
   },
   "outputs": [],
   "source": []
  }
 ],
 "metadata": {
  "kernelspec": {
   "display_name": "Python [default]",
   "language": "python",
   "name": "python3"
  },
  "language_info": {
   "codemirror_mode": {
    "name": "ipython",
    "version": 3
   },
   "file_extension": ".py",
   "mimetype": "text/x-python",
   "name": "python",
   "nbconvert_exporter": "python",
   "pygments_lexer": "ipython3",
   "version": "3.6.1"
  }
 },
 "nbformat": 4,
 "nbformat_minor": 2
}
